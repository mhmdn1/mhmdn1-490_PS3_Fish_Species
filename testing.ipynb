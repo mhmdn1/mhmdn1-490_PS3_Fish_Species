{
 "cells": [
  {
   "cell_type": "code",
   "execution_count": 9,
   "metadata": {},
   "outputs": [
    {
     "ename": "IndexError",
     "evalue": "index 11440000 is out of bounds for axis 0 with size 177",
     "output_type": "error",
     "traceback": [
      "\u001b[1;31m---------------------------------------------------------------------------\u001b[0m",
      "\u001b[1;31mIndexError\u001b[0m                                Traceback (most recent call last)",
      "Cell \u001b[1;32mIn[9], line 16\u001b[0m\n\u001b[0;32m     12\u001b[0m y_train_mapped \u001b[38;5;241m=\u001b[39m np\u001b[38;5;241m.\u001b[39mvectorize(class_to_index\u001b[38;5;241m.\u001b[39mget)(y_train)\n\u001b[0;32m     14\u001b[0m \u001b[38;5;66;03m# Repeat for y_test if necessary\u001b[39;00m\n\u001b[1;32m---> 16\u001b[0m y_train_onehot \u001b[38;5;241m=\u001b[39m \u001b[43mnp\u001b[49m\u001b[38;5;241;43m.\u001b[39;49m\u001b[43meye\u001b[49m\u001b[43m(\u001b[49m\u001b[38;5;28;43mlen\u001b[39;49m\u001b[43m(\u001b[49m\u001b[43mnp\u001b[49m\u001b[38;5;241;43m.\u001b[39;49m\u001b[43munique\u001b[49m\u001b[43m(\u001b[49m\u001b[43my_train\u001b[49m\u001b[43m)\u001b[49m\u001b[43m)\u001b[49m\u001b[43m)\u001b[49m\u001b[43m[\u001b[49m\u001b[43my_train\u001b[49m\u001b[43m]\u001b[49m\n\u001b[0;32m     17\u001b[0m y_test_onehot \u001b[38;5;241m=\u001b[39m np\u001b[38;5;241m.\u001b[39meye(\u001b[38;5;28mlen\u001b[39m(np\u001b[38;5;241m.\u001b[39munique(y_test)))[y_test]\n\u001b[0;32m     20\u001b[0m input_size \u001b[38;5;241m=\u001b[39m X_train\u001b[38;5;241m.\u001b[39mshape[\u001b[38;5;241m1\u001b[39m]\n",
      "\u001b[1;31mIndexError\u001b[0m: index 11440000 is out of bounds for axis 0 with size 177"
     ]
    }
   ],
   "source": [
    "import numpy as np\n",
    "from neural_network_class import NeuralNetwork\n",
    "from sklearn.metrics import accuracy_score\n",
    "from Processing_data import prepare_data\n",
    "\n",
    "# Load and prepare data\n",
    "file_path = 'SalaryPrediction.csv'\n",
    "X_train, X_test, y_train, y_test = prepare_data(file_path)\n",
    "\n",
    "unique_classes = np.unique(y_train)\n",
    "class_to_index = {label: index for index, label in enumerate(unique_classes)}\n",
    "y_train_mapped = np.vectorize(class_to_index.get)(y_train)\n",
    "\n",
    "# Repeat for y_test if necessary\n",
    "\n",
    "y_train_onehot = np.eye(len(np.unique(y_train)))[y_train]\n",
    "y_test_onehot = np.eye(len(np.unique(y_test)))[y_test]\n",
    "\n",
    "\n",
    "input_size = X_train.shape[1]\n",
    "hidden_size = 8  # Example size of hidden layer\n",
    "output_size = y_train_onehot.shape[1]  # Single output node since we are predicting a single value\n",
    "learning_rate = 0.01\n",
    "\n",
    "\n",
    "nn = NeuralNetwork(input_size, hidden_size, output_size, learning_rate)\n",
    "nn.train(X_train, y_train, epochs=1000)\n",
    "\n",
    "# Predict on test set\n",
    "y_pred = nn.predict(X_test)\n",
    "y_pred_labels = np.argmax(y_pred, axis=1)\n",
    "\n",
    "#accuracy evaluation\n",
    "accuracy = accuracy_score(y_test, y_pred_labels)\n",
    "print(f\"Test accuracy: {accuracy * 100:.2f}%\")\n"
   ]
  }
 ],
 "metadata": {
  "kernelspec": {
   "display_name": "Python 3",
   "language": "python",
   "name": "python3"
  },
  "language_info": {
   "codemirror_mode": {
    "name": "ipython",
    "version": 3
   },
   "file_extension": ".py",
   "mimetype": "text/x-python",
   "name": "python",
   "nbconvert_exporter": "python",
   "pygments_lexer": "ipython3",
   "version": "3.11.9"
  }
 },
 "nbformat": 4,
 "nbformat_minor": 2
}
